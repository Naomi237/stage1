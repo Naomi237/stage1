{
 "cells": [
  {
   "cell_type": "markdown",
   "metadata": {},
   "source": [
    "<center>\n",
    "    <img src=\"https://cf-courses-data.s3.us.cloud-object-storage.appdomain.cloud/IBMDeveloperSkillsNetwork-DS0105EN-SkillsNetwork/labs/Module2/images/SN_web_lightmode.png\" width=\"300\" alt=\"cognitiveclass.ai logo\">\n",
    "</center>\n"
   ]
  },
  {
   "cell_type": "markdown",
   "metadata": {},
   "source": [
    "#### Add your code below following the instructions given in the course\n"
   ]
  },
  {
   "cell_type": "markdown",
   "metadata": {},
   "source": [
    "# Notebook"
   ]
  },
  {
   "cell_type": "markdown",
   "metadata": {},
   "source": [
    "# Introduction"
   ]
  },
  {
   "cell_type": "markdown",
   "metadata": {
    "jp-MarkdownHeadingCollapsed": true
   },
   "source": [
    "### Popular data science languages\n",
    "**Python**: readable code, with indentation\n",
    "\n",
    "**R**: for statistic analysis and visulization\n",
    "\n",
    "**SQL**: Structured Query Language, to manage data\n",
    "\n",
    "**Java**: write once and run everywhere\n",
    "\n",
    "**MATLAB**: proprietary multi-paradigm, numeric computing enviroment\n",
    "\n",
    "**JavaScript**: core techenology of WWW(world wide web), and HTML and CSS\n",
    "\n",
    "**Scala**: object-oriented, can run on JVM\n",
    "\n",
    "**SAS**: statistic analysis"
   ]
  },
  {
   "cell_type": "markdown",
   "metadata": {},
   "source": [
    "### data science libraries\n",
    "**Numpy**: multi-dimensional arrays, matrices\n",
    "\n",
    "**Matplotlib**: plotting library for Python\n",
    "\n",
    "**Scikit-learn**: machine learning for Python, free, open-source\n",
    "\n",
    "**SciPy**: scientific computing and technical computing, free, open-source\n",
    "\n",
    "**pyTorch**: machine learning\n",
    "\n",
    "**Keras**: artifical neural network\n",
    "\n",
    "**Pandas**: data analysis, data manipulation, data cleaning\n",
    "\n",
    "**TensorFlow**: machine learning, end to end"
   ]
  },
  {
   "cell_type": "markdown",
   "metadata": {},
   "source": [
    "### Data science tools\n",
    "| Tools | what they do |\n",
    "| -------- | -------- |\n",
    "|Apache Spark | handle massive volume data, connect various data sources |\n",
    "| Apache Hadoop | software framework |\n",
    "| Jupter Notebook | web-based interactive tool, combine almost everything|"
   ]
  },
  {
   "cell_type": "markdown",
   "metadata": {},
   "source": [
    "$a^2+2ab+b^2=(a+b)^2$"
   ]
  },
  {
   "cell_type": "code",
   "execution_count": 1,
   "metadata": {},
   "outputs": [
    {
     "name": "stdout",
     "output_type": "stream",
     "text": [
      "427968\n"
     ]
    }
   ],
   "source": [
    "results = 8567 * 43 - 35645 + 256 * (356 + 2**4)\n",
    "print(results)"
   ]
  },
  {
   "cell_type": "code",
   "execution_count": 3,
   "metadata": {},
   "outputs": [
    {
     "name": "stdin",
     "output_type": "stream",
     "text": [
      "Enter minutes: 78\n"
     ]
    },
    {
     "name": "stdout",
     "output_type": "stream",
     "text": [
      "\n",
      "78.0 minutes is 1.30 hours\n"
     ]
    }
   ],
   "source": [
    "minutes = float(input(\"Enter minutes:\"))\n",
    "hours = minutes / 60\n",
    "\n",
    "print(f\"\\n{minutes} minutes is {hours:.2f} hours\")"
   ]
  },
  {
   "cell_type": "markdown",
   "metadata": {},
   "source": [
    "# Objectives\n",
    "\n",
    "1. **Understand Core Concepts**\n",
    "    - Understand the structure of DS\n",
    "    - Know the resouce and tools can be used\n",
    "3. **Apply Small Practices**\n",
    "    - start with small practice to know coding\n",
    "    - get sence of achievement by finish small tasks with clean code\n",
    "5. **Practice Big Projects**\n",
    "    - based on interests or needs, start a big project to develop programming skills\n",
    "    - connect with experties for tips and networking\n",
    "6. **Field Intership Prep**\n",
    "   - identify 3-8 target companies/roles\n",
    "   - Reverse-engineer their tech stack\n",
    "   - Build one mini project to mimick their workflow\n",
    "8. **Skill Refinement**\n",
    "   - Daily coding 30min\n",
    "   - Rewatch specific programming courses\n",
    "   - contribute to one open source project on GitHub"
   ]
  },
  {
   "cell_type": "markdown",
   "metadata": {},
   "source": [
    "---\n",
    "##### **Author**: Qi\n",
    "##### **Contact**: qshang237@gmal.com\n",
    "##### **Date**: 14/08/2025\n",
    "---"
   ]
  }
 ],
 "metadata": {
  "kernelspec": {
   "display_name": "Python 3 (ipykernel)",
   "language": "python",
   "name": "python3"
  },
  "language_info": {
   "codemirror_mode": {
    "name": "ipython",
    "version": 3
   },
   "file_extension": ".py",
   "mimetype": "text/x-python",
   "name": "python",
   "nbconvert_exporter": "python",
   "pygments_lexer": "ipython3",
   "version": "3.12.8"
  }
 },
 "nbformat": 4,
 "nbformat_minor": 4
}
